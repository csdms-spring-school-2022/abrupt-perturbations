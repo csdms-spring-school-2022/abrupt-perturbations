{
 "cells": [
  {
   "cell_type": "code",
   "execution_count": 2,
   "id": "a3bdbce8-75b2-4498-af02-4386ee452ece",
   "metadata": {},
   "outputs": [],
   "source": [
    "import sys, time, os\n",
    "from pathlib import Path\n",
    "import copy\n",
    "import numpy as np\n",
    "import matplotlib as mpl\n",
    "import matplotlib.pyplot as plt\n",
    "\n",
    "from bmi_topography import Topography\n",
    "from landlab import RasterModelGrid, imshowhs_grid, imshow_grid\n",
    "from landlab.components import FlowAccumulator, PriorityFloodFlowRouter, ChannelProfiler, BedrockLandslider\n",
    "from landlab.io import read_esri_ascii, write_esri_ascii\n",
    "from landlab.io.netcdf import read_netcdf\n",
    "from landlab.utils import get_watershed_mask"
   ]
  },
  {
   "cell_type": "markdown",
   "id": "74f8d593-7444-40e8-9469-38dfe3453de2",
   "metadata": {},
   "source": [
    "# Abrupt Fires and Landslides\n",
    "Authors: Nick Colaianne, David Cúñes, Sebastien Lenard, Jill Marshal, Emily Rexer\n",
    "\n",
    "Main notebook for integrating code. "
   ]
  },
  {
   "cell_type": "markdown",
   "id": "876932bf-7389-4990-8e64-2f14c14aec7e",
   "metadata": {},
   "source": [
    "## Background and Motivation\n",
    "TODO: Explain why this project is relevant and what we hope to discover"
   ]
  },
  {
   "cell_type": "markdown",
   "id": "6ce800d3-d4c8-4982-8a52-aa3b59d4dc24",
   "metadata": {},
   "source": [
    "## Table of Contents\n",
    "1. Download DEM\n",
    "2. [Stochastic Fire](https://landlab.readthedocs.io/en/latest/reference/components/fire_generator.html)\n",
    "3. Soil Cohesion and Density\n",
    "3. [Shallow Landslide Susceptibility](https://landlab.readthedocs.io/en/latest/reference/components/landslides.html)\n",
    "4. Trigger a Landslide \n",
    "\n",
    "potential sections: [vegetation](https://landlab.readthedocs.io/en/latest/reference/components/vegetation_dynamics.html), [rainfall](https://landlab.readthedocs.io/en/latest/reference/components/uniform_precip.html), [SPACE](https://landlab.readthedocs.io/en/latest/reference/components/space.html#module-landlab.components.space.space_large_scale_eroder)"
   ]
  },
  {
   "cell_type": "markdown",
   "id": "8b0798b6-c768-418b-a68b-4ed1e5746585",
   "metadata": {},
   "source": [
    "### Resources\n",
    "[all landlab components](https://landlab.readthedocs.io/en/latest/reference/components/index.html#api-components)"
   ]
  },
  {
   "cell_type": "markdown",
   "id": "7a7c54e0-f1d0-4c65-80e4-ba3464a2bfa0",
   "metadata": {},
   "source": [
    "## 1. Download DEM"
   ]
  },
  {
   "cell_type": "markdown",
   "id": "022545b7-f2d0-4e5b-bae1-6117d15c5d51",
   "metadata": {},
   "source": [
    "## 2. Stochastic Fire"
   ]
  },
  {
   "cell_type": "markdown",
   "id": "8952b324-763e-46c8-817c-3a3d97089ef6",
   "metadata": {},
   "source": [
    "## 3. Soil Cohesion and Density"
   ]
  },
  {
   "cell_type": "markdown",
   "id": "886b1c84-6fd4-418f-b825-891a1f23dc52",
   "metadata": {},
   "source": [
    "## 4. Shallow Landslide Susceptibility"
   ]
  },
  {
   "cell_type": "markdown",
   "id": "5b10c878-20bc-432c-8b96-3573ef47aff5",
   "metadata": {},
   "source": [
    "## 5. Trigger a Landslide"
   ]
  },
  {
   "cell_type": "code",
   "execution_count": null,
   "id": "104f5e2f-14fb-4ed9-99c4-5386675ef7fc",
   "metadata": {},
   "outputs": [],
   "source": []
  }
 ],
 "metadata": {
  "kernelspec": {
   "display_name": "Ivy",
   "language": "python",
   "name": "ivy"
  },
  "language_info": {
   "codemirror_mode": {
    "name": "ipython",
    "version": 3
   },
   "file_extension": ".py",
   "mimetype": "text/x-python",
   "name": "python",
   "nbconvert_exporter": "python",
   "pygments_lexer": "ipython3",
   "version": "3.9.12"
  }
 },
 "nbformat": 4,
 "nbformat_minor": 5
}

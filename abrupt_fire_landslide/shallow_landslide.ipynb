{
 "cells": [
  {
   "cell_type": "code",
   "execution_count": 1,
   "id": "cc023a75-dc34-4785-98fd-a220cb841e50",
   "metadata": {},
   "outputs": [],
   "source": [
    "import sys, time, os\n",
    "from pathlib import Path\n",
    "import copy\n",
    "import numpy as np\n",
    "import matplotlib as mpl\n",
    "import matplotlib.pyplot as plt\n",
    "\n",
    "from bmi_topography import Topography\n",
    "from landlab import RasterModelGrid, imshowhs_grid, imshow_grid\n",
    "from landlab.components import FlowAccumulator, PriorityFloodFlowRouter, ChannelProfiler, BedrockLandslider, SpaceLargeScaleEroder\n",
    "from landlab.components.landslides import LandslideProbability\n",
    "from landlab.io import read_esri_ascii, write_esri_ascii\n",
    "from landlab.io.netcdf import read_netcdf\n",
    "from landlab.utils import get_watershed_mask"
   ]
  },
  {
   "cell_type": "markdown",
   "id": "4c88b667-a791-478b-bc59-bd6348cbb559",
   "metadata": {},
   "source": [
    "# [Shallow Landslides](https://landlab.readthedocs.io/en/latest/reference/components/landslides.html)"
   ]
  },
  {
   "cell_type": "code",
   "execution_count": 90,
   "id": "c523ca70-2c76-4b6a-9497-fb03116aca56",
   "metadata": {},
   "outputs": [],
   "source": [
    "# import small DEM\n",
    "topo = Topography(\n",
    "    dem_type=\"SRTMGL1\",\n",
    "    south=43.971911,\n",
    "    north=43.982382,\n",
    "    west=-123.826646,\n",
    "    east=-123.813606,\n",
    "    output_format=\"AAIGrid\",\n",
    "    cache_dir=\"DEMData//\"\n",
    "    )\n",
    "fname = topo.fetch()\n",
    "dem = topo.load()\n",
    "grid_geog, elev = read_esri_ascii(fname, name='topographic__elevation')    "
   ]
  },
  {
   "cell_type": "code",
   "execution_count": 91,
   "id": "a553c1e0-3d21-4990-9dca-87681c74fdae",
   "metadata": {},
   "outputs": [],
   "source": [
    "grid = RasterModelGrid ((grid_geog.number_of_node_rows, grid_geog.number_of_node_columns), 30) # 30 meters\n",
    "grid.add_field('topographic__elevation', elev, at = 'node')\n",
    "\n",
    "num_rows, num_columns = grid.shape \n",
    "node_spacing = grid.dx"
   ]
  },
  {
   "cell_type": "code",
   "execution_count": 92,
   "id": "7519a012-3d43-4654-91b4-ea5d0ad8ebc3",
   "metadata": {},
   "outputs": [],
   "source": [
    "topographic_slope = grid.calc_slope_at_node(elevs='topographic__elevation')\n",
    "slopes = grid.add_field('topographic__slope', topographic_slope, at='node', clobber=True) "
   ]
  },
  {
   "cell_type": "code",
   "execution_count": 93,
   "id": "94b0b2e8-97cd-4db7-80c6-4d9bbfa1de17",
   "metadata": {},
   "outputs": [],
   "source": [
    "scatter_dat = np.random.randint(1, 10, grid.number_of_nodes)\n",
    "grid.at_node['topographic__specific_contributing_area'] = np.sort(\n",
    "     np.random.randint(30, 900, grid.number_of_nodes).astype(float))\n",
    "# grid.at_node['soil__transmissivity'] = np.sort(\n",
    "#      np.random.randint(5, 20, grid.number_of_nodes).astype(float), -1)\n",
    "grid.at_node['soil__saturated_hydraulic_conductivity'] = np.sort(\n",
    "     np.random.randint(2, 10, grid.number_of_nodes).astype(float), -1)\n",
    "# grid.at_node['soil__mode_total_cohesion'] = np.sort(\n",
    "#      np.random.randint(30, 900, grid.number_of_nodes).astype(float))\n",
    "# grid.at_node['soil__minimum_total_cohesion'] = (\n",
    "#      grid.at_node['soil__mode_total_cohesion'] - scatter_dat)\n",
    "# grid.at_node['soil__maximum_total_cohesion'] = (\n",
    "#      grid.at_node['soil__mode_total_cohesion'] + scatter_dat)\n",
    "# grid.at_node['soil__internal_friction_angle'] = np.sort(\n",
    "     # np.random.randint(26, 40, grid.number_of_nodes).astype(float))\n",
    "# grid.at_node['soil__thickness'] = np.sort(\n",
    "#      np.random.randint(1, 10, grid.number_of_nodes).astype(float))\n",
    "# grid.at_node['soil__density'] = (2000. * np.ones(grid.number_of_nodes))\n",
    "\n",
    "grid.at_node['soil__density'] = (1600. * np.ones(grid.number_of_nodes))\n",
    "grid.at_node['soil__internal_friction_angle'] = 40. * np.ones(grid.number_of_nodes)\n",
    "grid.at_node['soil__mode_total_cohesion'] = 48.5 * np.ones(grid.number_of_nodes)\n",
    "grid.at_node['soil__minimum_total_cohesion'] = 3. * np.ones(grid.number_of_nodes)\n",
    "grid.at_node['soil__maximum_total_cohesion'] = 94. * np.ones(grid.number_of_nodes)\n",
    "grid.at_node['soil__thickness'] = 0.5 * np.ones(grid.number_of_nodes)\n",
    "grid.at_node['soil__transmissivity'] = 65. * np.ones(grid.number_of_nodes)"
   ]
  },
  {
   "cell_type": "code",
   "execution_count": 94,
   "id": "41b3c34b-5b41-4997-85d6-6aeefe27a56a",
   "metadata": {},
   "outputs": [
    {
     "name": "stdout",
     "output_type": "stream",
     "text": [
      "name: soil__thickness\n",
      "description:\n",
      "  soil depth to restrictive layer\n",
      "units: m\n",
      "unit agnostic: False\n",
      "at: node\n",
      "intent: in\n"
     ]
    }
   ],
   "source": [
    "LandslideProbability.var_help('soil__thickness')\n",
    "# np.sort(np.random.randint(30, 900, grid.number_of_nodes).astype(float))"
   ]
  },
  {
   "cell_type": "code",
   "execution_count": 95,
   "id": "67eb952a-d333-494c-8c37-11ac78550b69",
   "metadata": {},
   "outputs": [
    {
     "data": {
      "text/plain": [
       "True"
      ]
     },
     "execution_count": 95,
     "metadata": {},
     "output_type": "execute_result"
    }
   ],
   "source": [
    "ls_prob = LandslideProbability(grid)\n",
    "np.allclose(grid.at_node['landslide__probability_of_failure'], 0.)"
   ]
  },
  {
   "cell_type": "code",
   "execution_count": 96,
   "id": "209b08fd-2ca8-4878-8265-e9066c459a82",
   "metadata": {},
   "outputs": [],
   "source": [
    "ls_prob.calculate_landslide_probability()"
   ]
  },
  {
   "cell_type": "code",
   "execution_count": 97,
   "id": "3e19463d-580b-4157-b4cd-0e20d4126bb3",
   "metadata": {},
   "outputs": [
    {
     "data": {
      "text/plain": [
       "['landslide__probability_of_failure',\n",
       " 'soil__mean_relative_wetness',\n",
       " 'soil__probability_of_saturation']"
      ]
     },
     "execution_count": 97,
     "metadata": {},
     "output_type": "execute_result"
    }
   ],
   "source": [
    "sorted(ls_prob.output_var_names) "
   ]
  },
  {
   "cell_type": "code",
   "execution_count": 98,
   "id": "78cec8cc-b8d8-4320-a344-23f5c7d3d1db",
   "metadata": {},
   "outputs": [
    {
     "data": {
      "text/plain": [
       "False"
      ]
     },
     "execution_count": 98,
     "metadata": {},
     "output_type": "execute_result"
    }
   ],
   "source": [
    "np.allclose(grid.at_node['landslide__probability_of_failure'], 0.)"
   ]
  },
  {
   "cell_type": "code",
   "execution_count": 99,
   "id": "5491c846-aefa-4657-9c5c-6eb334525b54",
   "metadata": {},
   "outputs": [],
   "source": [
    "core_nodes = ls_prob.grid.core_nodes"
   ]
  },
  {
   "cell_type": "code",
   "execution_count": 100,
   "id": "c0335630-c46b-4b1d-90b7-0cce45d4251e",
   "metadata": {},
   "outputs": [
    {
     "data": {
      "image/png": "[encoded data removed]",
      "text/plain": [
       "<Figure size 432x288 with 2 Axes>"
      ]
     },
     "metadata": {
      "needs_background": "light"
     },
     "output_type": "display_data"
    }
   ],
   "source": [
    "imshow_grid(grid, 'topographic__elevation')"
   ]
  },
  {
   "cell_type": "code",
   "execution_count": 101,
   "id": "a8e80721-febf-44b9-92a2-c380f11b33df",
   "metadata": {},
   "outputs": [
    {
     "data": {
      "image/png": "[encoded data removed]",
      "text/plain": [
       "<Figure size 432x288 with 2 Axes>"
      ]
     },
     "metadata": {
      "needs_background": "light"
     },
     "output_type": "display_data"
    }
   ],
   "source": [
    "imshow_grid(grid, 'landslide__probability_of_failure')"
   ]
  },
  {
   "cell_type": "code",
   "execution_count": 102,
   "id": "b1ea26e4-8436-44d4-8b2c-1ca0bd1c7ab0",
   "metadata": {},
   "outputs": [
    {
     "data": {
      "image/png": "[encoded data removed]",
      "text/plain": [
       "<Figure size 432x288 with 2 Axes>"
      ]
     },
     "metadata": {
      "needs_background": "light"
     },
     "output_type": "display_data"
    }
   ],
   "source": [
    "imshow_grid(grid, 'topographic__slope')"
   ]
  },
  {
   "cell_type": "code",
   "execution_count": 103,
   "id": "da85645c-1a9e-49c1-bf31-399bacdacda3",
   "metadata": {},
   "outputs": [
    {
     "data": {
      "image/png": "[encoded data removed]",
      "text/plain": [
       "<Figure size 432x288 with 2 Axes>"
      ]
     },
     "metadata": {
      "needs_background": "light"
     },
     "output_type": "display_data"
    }
   ],
   "source": [
    "imshow_grid(grid, 'soil__thickness')"
   ]
  },
  {
   "cell_type": "code",
   "execution_count": 86,
   "id": "6236025b-027b-4fe6-9e80-1ba6dd39b4f1",
   "metadata": {},
   "outputs": [
    {
     "name": "stdout",
     "output_type": "stream",
     "text": [
      "topographic__elevation\n",
      "topographic__slope\n",
      "topographic__specific_contributing_area\n",
      "soil__saturated_hydraulic_conductivity\n",
      "soil__density\n",
      "soil__internal_friction_angle\n",
      "soil__mode_total_cohesion\n",
      "soil__minimum_total_cohesion\n",
      "soil__maximum_total_cohesion\n",
      "soil__thickness\n",
      "soil__transmissivity\n",
      "soil__mean_relative_wetness\n",
      "landslide__probability_of_failure\n",
      "soil__probability_of_saturation\n"
     ]
    }
   ],
   "source": [
    "def list_keys(grid):\n",
    "    for group in grid.groups:\n",
    "        for field in grid.keys(group):\n",
    "            print(field)\n",
    "list_keys(grid)"
   ]
  },
  {
   "cell_type": "code",
   "execution_count": null,
   "id": "eb4dac3f-1771-410b-a850-fb20ab02678d",
   "metadata": {},
   "outputs": [],
   "source": []
  }
 ],
 "metadata": {
  "kernelspec": {
   "display_name": "Ivy",
   "language": "python",
   "name": "ivy"
  },
  "language_info": {
   "codemirror_mode": {
    "name": "ipython",
    "version": 3
   },
   "file_extension": ".py",
   "mimetype": "text/x-python",
   "name": "python",
   "nbconvert_exporter": "python",
   "pygments_lexer": "ipython3",
   "version": "3.9.12"
  }
 },
 "nbformat": 4,
 "nbformat_minor": 5
}

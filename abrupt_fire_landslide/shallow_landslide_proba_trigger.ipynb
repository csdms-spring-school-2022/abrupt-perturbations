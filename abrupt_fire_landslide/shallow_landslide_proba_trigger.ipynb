{
 "cells": [
  {
   "cell_type": "markdown",
   "metadata": {},
   "source": [
    "<a href=\"https://csdms.colorado.edu\"><img style=\"float: center; width: 75%\" src=\"(https://lab.openearthscape.org/hub/user-redirect/lab/tree/abrupt-perturbations/abrupt_fire_landslide/media/logo.png)\"></a>"
   ]
  },
  {
   "cell_type": "markdown",
   "metadata": {},
   "source": [
    "# Landlab - using the LandslideProbability component to compute a landslide probability for each cell of a landscape.\n",
    "## (a) Landscape initiation."
   ]
  },
  {
   "cell_type": "markdown",
   "metadata": {},
   "source": [
    "First we create a artificial grid (this will be replaced by real SRTM grid from Oregon)."
   ]
  },
  {
   "cell_type": "code",
   "execution_count": 24,
   "metadata": {},
   "outputs": [],
   "source": [
    "from landlab import RasterModelGrid\n",
    "rowNb = 10; colNb = 10; cellSpacing = (30, 30) # in meters\n",
    "rmg = RasterModelGrid((rowNb, colNb), xy_spacing=spacing)\n"
   ]
  },
  {
   "cell_type": "markdown",
   "metadata": {},
   "source": [
    "We add an elevation field populated with 0-m elevation."
   ]
  },
  {
   "cell_type": "code",
   "execution_count": 33,
   "metadata": {},
   "outputs": [
    {
     "data": {
      "text/plain": [
       "array([ 0.,  0.,  0.,  0.,  0.,  0.,  0.,  0.,  0.,  0.,  0.,  0.,  0.,\n",
       "        0.,  0.,  0.,  0.,  0.,  0.,  0.,  0.,  0.,  0.,  0.,  0.,  0.,\n",
       "        0.,  0.,  0.,  0.,  0.,  0.,  0.,  0.,  0.,  0.,  0.,  0.,  0.,\n",
       "        0.,  0.,  0.,  0.,  0.,  0.,  0.,  0.,  0.,  0.,  0.,  0.,  0.,\n",
       "        0.,  0.,  0.,  0.,  0.,  0.,  0.,  0.,  0.,  0.,  0.,  0.,  0.,\n",
       "        0.,  0.,  0.,  0.,  0.,  0.,  0.,  0.,  0.,  0.,  0.,  0.,  0.,\n",
       "        0.,  0.,  0.,  0.,  0.,  0.,  0.,  0.,  0.,  0.,  0.,  0.,  0.,\n",
       "        0.,  0.,  0.,  0.,  0.,  0.,  0.,  0.,  0.])"
      ]
     },
     "execution_count": 33,
     "metadata": {},
     "output_type": "execute_result"
    }
   ],
   "source": [
    "# create elevation field filled with zeros # REMOVE the clobber=True for the final code\n",
    "z = rmg.add_zeros('topographic__elevation', at = 'node', clobber=True)\n",
    "rmg.field_values('topographic__elevation')"
   ]
  },
  {
   "cell_type": "markdown",
   "metadata": {},
   "source": [
    "We display the landscape."
   ]
  },
  {
   "cell_type": "code",
   "execution_count": 31,
   "metadata": {},
   "outputs": [
    {
     "data": {
      "image/png": "[encoded data removed]",
      "text/plain": [
       "<Figure size 432x288 with 2 Axes>"
      ]
     },
     "metadata": {
      "needs_background": "light"
     },
     "output_type": "display_data"
    }
   ],
   "source": [
    "# now display the landscape\n",
    "from landlab import imshow_grid\n",
    "imshow_grid(rmg, 'topographic__elevation')"
   ]
  },
  {
   "cell_type": "markdown",
   "metadata": {},
   "source": [
    "## (b) Get information on the LandslideProbability component.\n",
    "Then before we instantiate the LandslideProbability component, we check the possible input variables."
   ]
  },
  {
   "cell_type": "code",
   "execution_count": 16,
   "metadata": {},
   "outputs": [
    {
     "data": {
      "text/plain": [
       "['soil__density',\n",
       " 'soil__internal_friction_angle',\n",
       " 'soil__maximum_total_cohesion',\n",
       " 'soil__minimum_total_cohesion',\n",
       " 'soil__mode_total_cohesion',\n",
       " 'soil__saturated_hydraulic_conductivity',\n",
       " 'soil__thickness',\n",
       " 'soil__transmissivity',\n",
       " 'topographic__slope',\n",
       " 'topographic__specific_contributing_area']"
      ]
     },
     "execution_count": 16,
     "metadata": {},
     "output_type": "execute_result"
    }
   ],
   "source": [
    "from landlab.components.landslides import LandslideProbability\n",
    "sorted(LandslideProbability.input_var_names)"
   ]
  },
  {
   "cell_type": "markdown",
   "metadata": {},
   "source": [
    "We can check the units of these variables."
   ]
  },
  {
   "cell_type": "code",
   "execution_count": 18,
   "metadata": {},
   "outputs": [
    {
     "data": {
      "text/plain": [
       "'m'"
      ]
     },
     "execution_count": 18,
     "metadata": {},
     "output_type": "execute_result"
    }
   ],
   "source": [
    "LandslideProbability.var_units('topographic__specific_contributing_area')"
   ]
  },
  {
   "cell_type": "markdown",
   "metadata": {},
   "source": [
    "We can also get more details about how the input variable will be used in the component."
   ]
  },
  {
   "cell_type": "code",
   "execution_count": 19,
   "metadata": {},
   "outputs": [
    {
     "name": "stdout",
     "output_type": "stream",
     "text": [
      "name: soil__transmissivity\n",
      "description:\n",
      "  mode rate of water transmitted through a unit width of saturated\n",
      "  soil - either provided or calculated with Ksat and soil depth\n",
      "units: m2/day\n",
      "unit agnostic: False\n",
      "at: node\n",
      "intent: in\n"
     ]
    }
   ],
   "source": [
    "LandslideProbability.var_help('soil__transmissivity')"
   ]
  },
  {
   "cell_type": "markdown",
   "metadata": {},
   "source": [
    "## (c) Fill the landscape grid with the variables the LandslideProbability component needs to work.\n",
    "_Details on where to find readily available data and how to process these data into parameter rasters are provided in Strauch et al., (2018). For example, root cohesion can be generated from reclassifying land use/land cover (LULC) rasters from USGS National Land Cover Data (USGS 2014; Jin 2013) \n",
    "based on reference to a lookup table that specifies the root cohesion for different LULC types, Table 1 in Strauch et al., (2018). The reclassified raster can then be converted to an ASCII file for import into Landlab, defined with number of rows and columns and cell size._\n",
    "\n",
    "Here we'll make things the simplest as possible. Soil is dominantly sandy in the selected area."
   ]
  },
  {
   "cell_type": "markdown",
   "metadata": {},
   "source": [
    "We suppose a homogeneous soil density. Density should evolve with precipitation and drought (and fires?)."
   ]
  },
  {
   "cell_type": "code",
   "execution_count": 34,
   "metadata": {},
   "outputs": [
    {
     "data": {
      "text/plain": [
       "array([ 1800.,  1800.,  1800.,  1800.,  1800.,  1800.,  1800.,  1800.,\n",
       "        1800.,  1800.,  1800.,  1800.,  1800.,  1800.,  1800.,  1800.,\n",
       "        1800.,  1800.,  1800.,  1800.,  1800.,  1800.,  1800.,  1800.,\n",
       "        1800.,  1800.,  1800.,  1800.,  1800.,  1800.,  1800.,  1800.,\n",
       "        1800.,  1800.,  1800.,  1800.,  1800.,  1800.,  1800.,  1800.,\n",
       "        1800.,  1800.,  1800.,  1800.,  1800.,  1800.,  1800.,  1800.,\n",
       "        1800.,  1800.,  1800.,  1800.,  1800.,  1800.,  1800.,  1800.,\n",
       "        1800.,  1800.,  1800.,  1800.,  1800.,  1800.,  1800.,  1800.,\n",
       "        1800.,  1800.,  1800.,  1800.,  1800.,  1800.,  1800.,  1800.,\n",
       "        1800.,  1800.,  1800.,  1800.,  1800.,  1800.,  1800.,  1800.,\n",
       "        1800.,  1800.,  1800.,  1800.,  1800.,  1800.,  1800.,  1800.,\n",
       "        1800.,  1800.,  1800.,  1800.,  1800.,  1800.,  1800.,  1800.,\n",
       "        1800.,  1800.,  1800.,  1800.])"
      ]
     },
     "execution_count": 34,
     "metadata": {},
     "output_type": "execute_result"
    }
   ],
   "source": [
    "soilDensity = 1800 # kg/m3\n",
    "rmg.add_field('soil__density', soilDensity * np.ones(rmg.number_of_nodes), at='node', clobber=True)\n",
    "rmg.field_values('soil__density')"
   ]
  },
  {
   "cell_type": "markdown",
   "metadata": {},
   "source": [
    "We also suppose a homogeneous soil internal friction angle. This angle should vary with clay/sand soil content and density. "
   ]
  },
  {
   "cell_type": "code",
   "execution_count": 37,
   "metadata": {},
   "outputs": [
    {
     "data": {
      "text/plain": [
       "array([ 35.,  35.,  35.,  35.,  35.,  35.,  35.,  35.,  35.,  35.,  35.,\n",
       "        35.,  35.,  35.,  35.,  35.,  35.,  35.,  35.,  35.,  35.,  35.,\n",
       "        35.,  35.,  35.,  35.,  35.,  35.,  35.,  35.,  35.,  35.,  35.,\n",
       "        35.,  35.,  35.,  35.,  35.,  35.,  35.,  35.,  35.,  35.,  35.,\n",
       "        35.,  35.,  35.,  35.,  35.,  35.,  35.,  35.,  35.,  35.,  35.,\n",
       "        35.,  35.,  35.,  35.,  35.,  35.,  35.,  35.,  35.,  35.,  35.,\n",
       "        35.,  35.,  35.,  35.,  35.,  35.,  35.,  35.,  35.,  35.,  35.,\n",
       "        35.,  35.,  35.,  35.,  35.,  35.,  35.,  35.,  35.,  35.,  35.,\n",
       "        35.,  35.,  35.,  35.,  35.,  35.,  35.,  35.,  35.,  35.,  35.,\n",
       "        35.])"
      ]
     },
     "execution_count": 37,
     "metadata": {},
     "output_type": "execute_result"
    }
   ],
   "source": [
    "soilType = 'sand' # other possibility: clay\n",
    "soilInternalFrictionAngle = 35 # in degrees\n",
    "if soilType == 'clay':\n",
    "    soilInternalFrictionAngle = 10\n",
    "rmg.add_field('soil__internal_friction_angle' , soilInternalFrictionAngle * np.ones(rmg.number_of_nodes), at='node', clobber=True)\n",
    "rmg.field_values('soil__internal_friction_angle')"
   ]
  },
  {
   "cell_type": "markdown",
   "metadata": {},
   "source": [
    "We set the combined root and soil cohesion. Some values of soil cohesion can be found here: http://www.geotechdata.info/parameter/cohesion.\n",
    "We'll make the simplest and take four values, depending of soil type (clayey / sandy, and water saturated depending on dry/wet).\n",
    "For simplicity, we define the mode, and then add scatter = 0 to get minimum/maximum values."
   ]
  },
  {
   "cell_type": "code",
   "execution_count": 38,
   "metadata": {},
   "outputs": [
    {
     "data": {
      "text/plain": [
       "array([ 10000.,  10000.,  10000.,  10000.,  10000.,  10000.,  10000.,\n",
       "        10000.,  10000.,  10000.,  10000.,  10000.,  10000.,  10000.,\n",
       "        10000.,  10000.,  10000.,  10000.,  10000.,  10000.,  10000.,\n",
       "        10000.,  10000.,  10000.,  10000.,  10000.,  10000.,  10000.,\n",
       "        10000.,  10000.,  10000.,  10000.,  10000.,  10000.,  10000.,\n",
       "        10000.,  10000.,  10000.,  10000.,  10000.,  10000.,  10000.,\n",
       "        10000.,  10000.,  10000.,  10000.,  10000.,  10000.,  10000.,\n",
       "        10000.,  10000.,  10000.,  10000.,  10000.,  10000.,  10000.,\n",
       "        10000.,  10000.,  10000.,  10000.,  10000.,  10000.,  10000.,\n",
       "        10000.,  10000.,  10000.,  10000.,  10000.,  10000.,  10000.,\n",
       "        10000.,  10000.,  10000.,  10000.,  10000.,  10000.,  10000.,\n",
       "        10000.,  10000.,  10000.,  10000.,  10000.,  10000.,  10000.,\n",
       "        10000.,  10000.,  10000.,  10000.,  10000.,  10000.,  10000.,\n",
       "        10000.,  10000.,  10000.,  10000.,  10000.,  10000.,  10000.,\n",
       "        10000.,  10000.])"
      ]
     },
     "execution_count": 38,
     "metadata": {},
     "output_type": "execute_result"
    }
   ],
   "source": [
    "# Constants of soil cohesion, depending dry or wet\n",
    "drySoilCohesion = [70000, 20000] # in Pa. 1: more clayey, 2: more sandy \n",
    "wetSoilCohesion = [20000, 10000] # in Pa. 1: more clayey, 2: more sandy\n",
    "\n",
    "# Supposing that soil is wet (occurring during rainfall) and sandy\n",
    "soilCohesion = wetSoilCohesion[1]\n",
    "rmg.add_field('soil__mode_total_cohesion', soilCohesion * np.ones(rmg.number_of_nodes), at='node', clobber=True) # in Pa\n",
    "\n",
    "# Maximum and minimum values are copied from mode, for simplicity\n",
    "rmg.add_field('soil__minimum_total_cohesion', rmg.field_values('soil__mode_total_cohesion'), at='node', clobber=True) # in Pa\n",
    "rmg.add_field('soil__maximum_total_cohesion', rmg.field_values('soil__mode_total_cohesion'), at='node', clobber=True) # in Pa"
   ]
  },
  {
   "cell_type": "markdown",
   "metadata": {},
   "source": [
    "We define soil hydraulic conductivity. Varies depending clayey/sandy soil. If this is defined, no use to define transmissivity. Indicative values here: http://www.aqtesolv.com/aquifer-tests/aquifer_properties.htm\n",
    "\n",
    "TODO: Check whether proposed values are realistic."
   ]
  },
  {
   "cell_type": "code",
   "execution_count": null,
   "metadata": {},
   "outputs": [],
   "source": [
    "soilHydraulicConductivity = [1e-5, 1e-3] # in m/day. 1: more clayey, 2: more sandy\n",
    "'soil__transmissivity', # in m2/day"
   ]
  },
  {
   "cell_type": "code",
   "execution_count": null,
   "metadata": {},
   "outputs": [],
   "source": [
    " 'soil__saturated_hydraulic_conductivity',\n",
    " 'soil__thickness', # in m 0.5 on average\n",
    "\n",
    " 'topographic__slope',\n",
    " 'topographic__specific_contributing_area'"
   ]
  }
 ],
 "metadata": {
  "kernelspec": {
   "display_name": "Ivy",
   "language": "python",
   "name": "ivy"
  },
  "language_info": {
   "codemirror_mode": {
    "name": "ipython",
    "version": 3
   },
   "file_extension": ".py",
   "mimetype": "text/x-python",
   "name": "python",
   "nbconvert_exporter": "python",
   "pygments_lexer": "ipython3",
   "version": "3.9.12"
  }
 },
 "nbformat": 4,
 "nbformat_minor": 4
}

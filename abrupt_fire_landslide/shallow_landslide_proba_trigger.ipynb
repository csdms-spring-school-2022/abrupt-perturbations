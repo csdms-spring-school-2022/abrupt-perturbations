{
 "cells": [
  {
   "cell_type": "markdown",
   "metadata": {},
   "source": [
    "<a href=\"https://csdms.colorado.edu\"><img style=\"float: center; width: 75%\" src=\"(https://lab.openearthscape.org/hub/user-redirect/lab/tree/abrupt-perturbations/abrupt_fire_landslide/media/logo.png)\"></a>"
   ]
  },
  {
   "cell_type": "markdown",
   "metadata": {},
   "source": [
    "# Landlab - using the LandslideProbability component to compute a landslide probability for each cell of a landscape.\n",
    "## (a) Landscape initiation."
   ]
  },
  {
   "cell_type": "markdown",
   "metadata": {},
   "source": [
    "First we create a artificial grid (this will be replaced by real SRTM grid from Oregon)."
   ]
  },
  {
   "cell_type": "code",
   "execution_count": 6,
   "metadata": {},
   "outputs": [],
   "source": [
    "from landlab import RasterModelGrid\n",
    "rowNb = 10; colNb = 10; cellSpacing = (30, 30) # in meters\n",
    "grid = RasterModelGrid((rowNb, colNb), xy_spacing=cellSpacing)\n"
   ]
  },
  {
   "cell_type": "markdown",
   "metadata": {},
   "source": [
    "We add an elevation field populated with 0-m elevation."
   ]
  },
  {
   "cell_type": "code",
   "execution_count": 39,
   "metadata": {},
   "outputs": [],
   "source": [
    "# create elevation field filled with zeros # REMOVE the clobber=True for the final code\n",
    "# note that topographic elevation should be in a field called \"topographic__elevation\" to be later used by other components\n",
    "z = grid.add_zeros('topographic__elevation', at = 'node', clobber=True)\n",
    "grid.field_values('topographic__elevation')\n",
    "z[grid.y_of_node>150] += 10"
   ]
  },
  {
   "cell_type": "markdown",
   "metadata": {},
   "source": [
    "We display the landscape."
   ]
  },
  {
   "cell_type": "code",
   "execution_count": 40,
   "metadata": {},
   "outputs": [
    {
     "data": {
      "image/png": "[encoded data removed]",
      "text/plain": [
       "<Figure size 432x288 with 2 Axes>"
      ]
     },
     "metadata": {
      "needs_background": "light"
     },
     "output_type": "display_data"
    }
   ],
   "source": [
    "# now display the landscape\n",
    "from landlab import imshow_grid\n",
    "imshow_grid(grid, 'topographic__elevation')"
   ]
  },
  {
   "cell_type": "markdown",
   "metadata": {},
   "source": [
    "## (b) Get information on the LandslideProbability component.\n",
    "Then before we instantiate the LandslideProbability component, we check the possible input variables."
   ]
  },
  {
   "cell_type": "code",
   "execution_count": 41,
   "metadata": {},
   "outputs": [
    {
     "data": {
      "text/plain": [
       "['soil__density',\n",
       " 'soil__internal_friction_angle',\n",
       " 'soil__maximum_total_cohesion',\n",
       " 'soil__minimum_total_cohesion',\n",
       " 'soil__mode_total_cohesion',\n",
       " 'soil__saturated_hydraulic_conductivity',\n",
       " 'soil__thickness',\n",
       " 'soil__transmissivity',\n",
       " 'topographic__slope',\n",
       " 'topographic__specific_contributing_area']"
      ]
     },
     "execution_count": 41,
     "metadata": {},
     "output_type": "execute_result"
    }
   ],
   "source": [
    "from landlab.components.landslides import LandslideProbability\n",
    "sorted(LandslideProbability.input_var_names)"
   ]
  },
  {
   "cell_type": "markdown",
   "metadata": {},
   "source": [
    "We can check the units of these variables."
   ]
  },
  {
   "cell_type": "code",
   "execution_count": 42,
   "metadata": {},
   "outputs": [
    {
     "data": {
      "text/plain": [
       "'m'"
      ]
     },
     "execution_count": 42,
     "metadata": {},
     "output_type": "execute_result"
    }
   ],
   "source": [
    "LandslideProbability.var_units('topographic__specific_contributing_area')"
   ]
  },
  {
   "cell_type": "markdown",
   "metadata": {},
   "source": [
    "We can also get more details about how the input variable will be used in the component."
   ]
  },
  {
   "cell_type": "code",
   "execution_count": 43,
   "metadata": {},
   "outputs": [
    {
     "name": "stdout",
     "output_type": "stream",
     "text": [
      "name: soil__transmissivity\n",
      "description:\n",
      "  mode rate of water transmitted through a unit width of saturated\n",
      "  soil - either provided or calculated with Ksat and soil depth\n",
      "units: m2/day\n",
      "unit agnostic: False\n",
      "at: node\n",
      "intent: in\n"
     ]
    }
   ],
   "source": [
    "LandslideProbability.var_help('soil__transmissivity')"
   ]
  },
  {
   "cell_type": "markdown",
   "metadata": {},
   "source": [
    "## (c) Fill the landscape grid with the soil variables the LandslideProbability component needs to work.\n",
    "_Details on where to find readily available data and how to process these data into parameter rasters are provided in Strauch et al., (2018). For example, root cohesion can be generated from reclassifying land use/land cover (LULC) rasters from USGS National Land Cover Data (USGS 2014; Jin 2013) \n",
    "based on reference to a lookup table that specifies the root cohesion for different LULC types, Table 1 in Strauch et al., (2018). The reclassified raster can then be converted to an ASCII file for import into Landlab, defined with number of rows and columns and cell size._\n",
    "\n",
    "Here we'll make things the simplest as possible. Soil is dominantly sandy in the selected area."
   ]
  },
  {
   "cell_type": "markdown",
   "metadata": {},
   "source": [
    "We suppose a homogeneous soil density. Density should evolve with precipitation and drought (and fires?)."
   ]
  },
  {
   "cell_type": "code",
   "execution_count": 44,
   "metadata": {},
   "outputs": [
    {
     "data": {
      "text/plain": [
       "array([ 1800.,  1800.,  1800.,  1800.,  1800.,  1800.,  1800.,  1800.,\n",
       "        1800.,  1800.,  1800.,  1800.,  1800.,  1800.,  1800.,  1800.,\n",
       "        1800.,  1800.,  1800.,  1800.,  1800.,  1800.,  1800.,  1800.,\n",
       "        1800.,  1800.,  1800.,  1800.,  1800.,  1800.,  1800.,  1800.,\n",
       "        1800.,  1800.,  1800.,  1800.,  1800.,  1800.,  1800.,  1800.,\n",
       "        1800.,  1800.,  1800.,  1800.,  1800.,  1800.,  1800.,  1800.,\n",
       "        1800.,  1800.,  1800.,  1800.,  1800.,  1800.,  1800.,  1800.,\n",
       "        1800.,  1800.,  1800.,  1800.,  1800.,  1800.,  1800.,  1800.,\n",
       "        1800.,  1800.,  1800.,  1800.,  1800.,  1800.,  1800.,  1800.,\n",
       "        1800.,  1800.,  1800.,  1800.,  1800.,  1800.,  1800.,  1800.,\n",
       "        1800.,  1800.,  1800.,  1800.,  1800.,  1800.,  1800.,  1800.,\n",
       "        1800.,  1800.,  1800.,  1800.,  1800.,  1800.,  1800.,  1800.,\n",
       "        1800.,  1800.,  1800.,  1800.])"
      ]
     },
     "execution_count": 44,
     "metadata": {},
     "output_type": "execute_result"
    }
   ],
   "source": [
    "import numpy as np\n",
    "\n",
    "soilDensityArr = 1800 * np.ones(grid.number_of_nodes) # kg/m3\n",
    "grid.add_field('soil__density', soilDensityArr, at='node', clobber=True) \n",
    "# clobber allows to delete existing field before re-creation\n",
    "grid.field_values('soil__density')"
   ]
  },
  {
   "cell_type": "markdown",
   "metadata": {},
   "source": [
    "We also suppose a homogeneous soil internal friction angle. This angle should vary with clay/sand soil content and density. "
   ]
  },
  {
   "cell_type": "code",
   "execution_count": 45,
   "metadata": {},
   "outputs": [
    {
     "data": {
      "text/plain": [
       "array([ 35.,  35.,  35.,  35.,  35.,  35.,  35.,  35.,  35.,  35.,  35.,\n",
       "        35.,  35.,  35.,  35.,  35.,  35.,  35.,  35.,  35.,  35.,  35.,\n",
       "        35.,  35.,  35.,  35.,  35.,  35.,  35.,  35.,  35.,  35.,  35.,\n",
       "        35.,  35.,  35.,  35.,  35.,  35.,  35.,  35.,  35.,  35.,  35.,\n",
       "        35.,  35.,  35.,  35.,  35.,  35.,  35.,  35.,  35.,  35.,  35.,\n",
       "        35.,  35.,  35.,  35.,  35.,  35.,  35.,  35.,  35.,  35.,  35.,\n",
       "        35.,  35.,  35.,  35.,  35.,  35.,  35.,  35.,  35.,  35.,  35.,\n",
       "        35.,  35.,  35.,  35.,  35.,  35.,  35.,  35.,  35.,  35.,  35.,\n",
       "        35.,  35.,  35.,  35.,  35.,  35.,  35.,  35.,  35.,  35.,  35.,\n",
       "        35.])"
      ]
     },
     "execution_count": 45,
     "metadata": {},
     "output_type": "execute_result"
    }
   ],
   "source": [
    "soilType = 'sand' # other possibility: clay\n",
    "soilInternalFrictionAngle = 35 # in degrees\n",
    "if soilType == 'clay':\n",
    "    soilInternalFrictionAngle = 10\n",
    "soilInternalFrictionAngleArr = soilInternalFrictionAngle * np.ones(grid.number_of_nodes)\n",
    "grid.add_field('soil__internal_friction_angle' , soilInternalFrictionAngleArr, at='node', clobber=True)\n",
    "grid.field_values('soil__internal_friction_angle')"
   ]
  },
  {
   "cell_type": "markdown",
   "metadata": {},
   "source": [
    "We set the combined **root and soil cohesion**. Some values of soil cohesion can be found here: http://www.geotechdata.info/parameter/cohesion.\n",
    "We'll make the simplest and take four values, depending of soil type (clayey / sandy, and water saturated depending on dry/wet).\n",
    "For simplicity, we define the mode, and then add scatter = 0 to get minimum/maximum values."
   ]
  },
  {
   "cell_type": "code",
   "execution_count": 46,
   "metadata": {},
   "outputs": [
    {
     "data": {
      "text/plain": [
       "array([ 10000.,  10000.,  10000.,  10000.,  10000.,  10000.,  10000.,\n",
       "        10000.,  10000.,  10000.,  10000.,  10000.,  10000.,  10000.,\n",
       "        10000.,  10000.,  10000.,  10000.,  10000.,  10000.,  10000.,\n",
       "        10000.,  10000.,  10000.,  10000.,  10000.,  10000.,  10000.,\n",
       "        10000.,  10000.,  10000.,  10000.,  10000.,  10000.,  10000.,\n",
       "        10000.,  10000.,  10000.,  10000.,  10000.,  10000.,  10000.,\n",
       "        10000.,  10000.,  10000.,  10000.,  10000.,  10000.,  10000.,\n",
       "        10000.,  10000.,  10000.,  10000.,  10000.,  10000.,  10000.,\n",
       "        10000.,  10000.,  10000.,  10000.,  10000.,  10000.,  10000.,\n",
       "        10000.,  10000.,  10000.,  10000.,  10000.,  10000.,  10000.,\n",
       "        10000.,  10000.,  10000.,  10000.,  10000.,  10000.,  10000.,\n",
       "        10000.,  10000.,  10000.,  10000.,  10000.,  10000.,  10000.,\n",
       "        10000.,  10000.,  10000.,  10000.,  10000.,  10000.,  10000.,\n",
       "        10000.,  10000.,  10000.,  10000.,  10000.,  10000.,  10000.,\n",
       "        10000.,  10000.])"
      ]
     },
     "execution_count": 46,
     "metadata": {},
     "output_type": "execute_result"
    }
   ],
   "source": [
    "# Constants of soil cohesion, depending dry or wet\n",
    "drySoilCohesion = [70000, 20000] # in Pa. 1: more clayey, 2: more sandy \n",
    "wetSoilCohesion = [20000, 10000] # in Pa. 1: more clayey, 2: more sandy\n",
    "\n",
    "# Supposing that soil is wet (occurring during rainfall) and sandy\n",
    "soilCohesion = wetSoilCohesion[1]\n",
    "soilCohesionArr = soilCohesion * np.ones(grid.number_of_nodes)\n",
    "grid.add_field('soil__mode_total_cohesion', soilCohesionArr, at='node', clobber=True) # in Pa\n",
    "\n",
    "# Maximum and minimum values are copied from mode, for simplicity\n",
    "grid.add_field('soil__minimum_total_cohesion', grid.field_values('soil__mode_total_cohesion'), at='node', clobber=True) # in Pa\n",
    "grid.add_field('soil__maximum_total_cohesion', grid.field_values('soil__mode_total_cohesion'), at='node', clobber=True) # in Pa"
   ]
  },
  {
   "cell_type": "markdown",
   "metadata": {},
   "source": [
    "We define soil thickness. By simplicity same value everywhere, but there should be a little variation with slope (with specifically little soil for slope > 30°)."
   ]
  },
  {
   "cell_type": "code",
   "execution_count": 79,
   "metadata": {},
   "outputs": [
    {
     "data": {
      "text/plain": [
       "array([ 0.5,  0.5,  0.5,  0.5,  0.5,  0.5,  0.5,  0.5,  0.5,  0.5,  0.5,\n",
       "        0.5,  0.5,  0.5,  0.5,  0.5,  0.5,  0.5,  0.5,  0.5,  0.5,  0.5,\n",
       "        0.5,  0.5,  0.5,  0.5,  0.5,  0.5,  0.5,  0.5,  0.5,  0.5,  0.5,\n",
       "        0.5,  0.5,  0.5,  0.5,  0.5,  0.5,  0.5,  0.5,  0.5,  0.5,  0.5,\n",
       "        0.5,  0.5,  0.5,  0.5,  0.5,  0.5,  0.5,  0.5,  0.5,  0.5,  0.5,\n",
       "        0.5,  0.5,  0.5,  0.5,  0.5,  0.5,  0.5,  0.5,  0.5,  0.5,  0.5,\n",
       "        0.5,  0.5,  0.5,  0.5,  0.5,  0.5,  0.5,  0.5,  0.5,  0.5,  0.5,\n",
       "        0.5,  0.5,  0.5,  0.5,  0.5,  0.5,  0.5,  0.5,  0.5,  0.5,  0.5,\n",
       "        0.5,  0.5,  0.5,  0.5,  0.5,  0.5,  0.5,  0.5,  0.5,  0.5,  0.5,\n",
       "        0.5])"
      ]
     },
     "execution_count": 79,
     "metadata": {},
     "output_type": "execute_result"
    }
   ],
   "source": [
    "soilThicknessArr = 0.5 * np.ones(grid.number_of_nodes) # in m\n",
    "grid.add_field( 'soil__thickness', soilThicknessArr, at='node', clobber=True) # in m"
   ]
  },
  {
   "cell_type": "markdown",
   "metadata": {},
   "source": [
    "We define soil hydraulic conductivity. Varies depending clayey/sandy soil. If this is defined, no use to define transmissivity: ***UNTRUE: the component is raising an error***.\n",
    "\n",
    "**TODO: Check whether proposed values are realistic. AND recompute soil transmissivity values.**"
   ]
  },
  {
   "cell_type": "code",
   "execution_count": 81,
   "metadata": {},
   "outputs": [
    {
     "data": {
      "text/plain": [
       "array([ 0.0005,  0.0005,  0.0005,  0.0005,  0.0005,  0.0005,  0.0005,\n",
       "        0.0005,  0.0005,  0.0005,  0.0005,  0.0005,  0.0005,  0.0005,\n",
       "        0.0005,  0.0005,  0.0005,  0.0005,  0.0005,  0.0005,  0.0005,\n",
       "        0.0005,  0.0005,  0.0005,  0.0005,  0.0005,  0.0005,  0.0005,\n",
       "        0.0005,  0.0005,  0.0005,  0.0005,  0.0005,  0.0005,  0.0005,\n",
       "        0.0005,  0.0005,  0.0005,  0.0005,  0.0005,  0.0005,  0.0005,\n",
       "        0.0005,  0.0005,  0.0005,  0.0005,  0.0005,  0.0005,  0.0005,\n",
       "        0.0005,  0.0005,  0.0005,  0.0005,  0.0005,  0.0005,  0.0005,\n",
       "        0.0005,  0.0005,  0.0005,  0.0005,  0.0005,  0.0005,  0.0005,\n",
       "        0.0005,  0.0005,  0.0005,  0.0005,  0.0005,  0.0005,  0.0005,\n",
       "        0.0005,  0.0005,  0.0005,  0.0005,  0.0005,  0.0005,  0.0005,\n",
       "        0.0005,  0.0005,  0.0005,  0.0005,  0.0005,  0.0005,  0.0005,\n",
       "        0.0005,  0.0005,  0.0005,  0.0005,  0.0005,  0.0005,  0.0005,\n",
       "        0.0005,  0.0005,  0.0005,  0.0005,  0.0005,  0.0005,  0.0005,\n",
       "        0.0005,  0.0005])"
      ]
     },
     "execution_count": 81,
     "metadata": {},
     "output_type": "execute_result"
    }
   ],
   "source": [
    "soilHydraulicConductivity = [1e-5, 1e-3] # in m/day. 1: more clayey, 2: more sandy\n",
    "soilHydraulicConductivityArr = soilHydraulicConductivity[1] * np.ones(grid.number_of_nodes)\n",
    "grid.add_field( 'soil__saturated_hydraulic_conductivity', soilHydraulicConductivityArr, at='node', clobber=True) # in m/day\n",
    "grid.add_field( 'soil__transmissivity', grid.field_values('soil__saturated_hydraulic_conductivity') *\n",
    "              grid.field_values('soil__thickness') , at='node', clobber=True) # in m2/day"
   ]
  },
  {
   "cell_type": "markdown",
   "metadata": {},
   "source": [
    "## d) Fill the landscape grid with the topographic slope and contributing drainage areas, which are calculated from the DEM supplied with the grid, and which the LandslideProbability component needs to work.\n",
    "We now compute the slope from the grid DEM supplied to the LandslideProbability.\n",
    "Doc: https://landlab.readthedocs.io/en/master/reference/grid/gradients.html."
   ]
  },
  {
   "cell_type": "code",
   "execution_count": 78,
   "metadata": {},
   "outputs": [
    {
     "data": {
      "text/plain": [
       "array([ 0.        ,  0.        ,  0.        ,  0.        ,  0.        ,\n",
       "        0.        ,  0.        ,  0.        ,  0.        ,  0.        ,\n",
       "        0.        ,  0.        ,  0.        ,  0.        ,  0.        ,\n",
       "        0.        ,  0.        ,  0.        ,  0.        ,  0.        ,\n",
       "        0.        ,  0.        ,  0.        ,  0.        ,  0.        ,\n",
       "        0.        ,  0.        ,  0.        ,  0.        ,  0.        ,\n",
       "        0.        ,  0.        ,  0.        ,  0.        ,  0.        ,\n",
       "        0.        ,  0.        ,  0.        ,  0.        ,  0.        ,\n",
       "        0.        ,  0.        ,  0.        ,  0.        ,  0.        ,\n",
       "        0.        ,  0.        ,  0.        ,  0.        ,  0.        ,\n",
       "        0.16087528,  0.16087528,  0.16087528,  0.16087528,  0.16087528,\n",
       "        0.16087528,  0.16087528,  0.16087528,  0.16087528,  0.16087528,\n",
       "        0.16087528,  0.16087528,  0.16087528,  0.16087528,  0.16087528,\n",
       "        0.16087528,  0.16087528,  0.16087528,  0.16087528,  0.16087528,\n",
       "        0.        ,  0.        ,  0.        ,  0.        ,  0.        ,\n",
       "        0.        ,  0.        ,  0.        ,  0.        ,  0.        ,\n",
       "        0.        ,  0.        ,  0.        ,  0.        ,  0.        ,\n",
       "        0.        ,  0.        ,  0.        ,  0.        ,  0.        ,\n",
       "        0.        ,  0.        ,  0.        ,  0.        ,  0.        ,\n",
       "        0.        ,  0.        ,  0.        ,  0.        ,  0.        ])"
      ]
     },
     "execution_count": 78,
     "metadata": {},
     "output_type": "execute_result"
    }
   ],
   "source": [
    "import numpy as np\n",
    "topographicSlopeArr = grid.calc_slope_at_node(elevs='topographic__elevation')\n",
    "# I expect that calc_slope_at_node computes the tangent, i.e. the ratio of the vertical to the horizontal side, \n",
    "#also called the slope of the line\n",
    "slopes = grid.add_field('topographic__slope', topographicSlopeArr, at='node', clobber=True) # without units, \n",
    "# should be the tangent of slope angle\n",
    "slopes"
   ]
  },
  {
   "cell_type": "markdown",
   "metadata": {},
   "source": [
    "We now compute the specific contributing area from the grid DEM supplied.\n",
    "This should be  calculated as upslope drainage area/unit contour length (e.g., grid cell width) using the multiple flow direction D-infinity approach of TauDEM. \n",
    "(http://hydrology.usu.edu/taudem/taudem5/index.html).\n"
   ]
  },
  {
   "cell_type": "markdown",
   "metadata": {},
   "source": [
    "We first close boundaries except at the north (in the Oregon DEM supplied)."
   ]
  },
  {
   "cell_type": "code",
   "execution_count": null,
   "metadata": {},
   "outputs": [],
   "source": [
    "grid.set_closed_boundaries_at_grid_edges(True, False, True, True) # right is closed, top, left, bottom"
   ]
  },
  {
   "cell_type": "markdown",
   "metadata": {},
   "source": [
    "We then instantiate and compute the flow accumulator, using the steepest descent.\n",
    "\n",
    "Doc: https://landlab.readthedocs.io/en/master/reference/components/flow_accum.html?highlight=flow_accum\n",
    "https://landlab.readthedocs.io/en/master/_modules/landlab/components/flow_accum/flow_accumulator.html"
   ]
  },
  {
   "cell_type": "code",
   "execution_count": 70,
   "metadata": {},
   "outputs": [],
   "source": [
    "from landlab.components import FlowAccumulator\n",
    "# Instantiation\n",
    "fa = FlowAccumulator(\n",
    "     grid, 'topographic__elevation', flow_director='FlowDirectorSteepest'\n",
    ")"
   ]
  },
  {
   "cell_type": "code",
   "execution_count": 71,
   "metadata": {},
   "outputs": [
    {
     "data": {
      "text/plain": [
       "array([  0.,   0.,   0.,   0.,   0.,   0.,   0.,   0.,   0.,   0.,   0.,\n",
       "         0.,   0.,   0.,   0.,   0.,   0.,   0.,   0.,   0.,   0.,   0.,\n",
       "         0.,   0.,   0.,   0.,   0.,   0.,   0.,   0.,   0.,   0.,   0.,\n",
       "         0.,   0.,   0.,   0.,   0.,   0.,   0.,   0.,   0.,   0.,   0.,\n",
       "         0.,   0.,   0.,   0.,   0.,   0.,   0.,   0.,   0.,   0.,   0.,\n",
       "         0.,   0.,   0.,   0.,   0.,  10.,  10.,  10.,  10.,  10.,  10.,\n",
       "        10.,  10.,  10.,  10.,  10.,  10.,  10.,  10.,  10.,  10.,  10.,\n",
       "        10.,  10.,  10.,  10.,  10.,  10.,  10.,  10.,  10.,  10.,  10.,\n",
       "        10.,  10.,  10.,  10.,  10.,  10.,  10.,  10.,  10.,  10.,  10.,\n",
       "        10.])"
      ]
     },
     "execution_count": 71,
     "metadata": {},
     "output_type": "execute_result"
    }
   ],
   "source": [
    "fa.surface_values"
   ]
  },
  {
   "cell_type": "markdown",
   "metadata": {},
   "source": [
    "We then run the flow accumulator once."
   ]
  },
  {
   "cell_type": "code",
   "execution_count": 72,
   "metadata": {},
   "outputs": [],
   "source": [
    "fa.run_one_step() # run of the flow accumulator"
   ]
  },
  {
   "cell_type": "code",
   "execution_count": 74,
   "metadata": {},
   "outputs": [
    {
     "name": "stdout",
     "output_type": "stream",
     "text": [
      "[    0.     0.     0.     0.     0.     0.     0.     0.     0.     0.\n",
      "     0.   900.   900.   900.   900.   900.   900.   900.   900.     0.\n",
      "     0.   900.   900.   900.   900.   900.   900.   900.   900.     0.\n",
      "     0.   900.   900.   900.   900.   900.   900.   900.   900.     0.\n",
      "     0.   900.   900.   900.   900.   900.   900.   900.   900.     0.\n",
      "     0.  1800.  1800.  1800.  1800.  1800.  1800.  1800.  1800.     0.\n",
      "     0.   900.   900.   900.   900.   900.   900.   900.   900.     0.\n",
      "     0.   900.   900.   900.   900.   900.   900.   900.   900.     0.\n",
      "     0.   900.   900.   900.   900.   900.   900.   900.   900.     0.\n",
      "     0.     0.     0.     0.     0.     0.     0.     0.     0.     0.]\n"
     ]
    }
   ],
   "source": [
    "# Affecting the specific contributing area (drainage basin)\n",
    "contributingAreas = grid.add_field('topographic__specific_contributing_area', grid.at_node['drainage_area'], at='node', clobber=True) # in m\n",
    "print(contributingAreas)"
   ]
  },
  {
   "cell_type": "markdown",
   "metadata": {},
   "source": [
    "## e) Launches the LandslideProbability component needs to work."
   ]
  },
  {
   "cell_type": "code",
   "execution_count": 83,
   "metadata": {},
   "outputs": [
    {
     "data": {
      "text/plain": [
       "True"
      ]
     },
     "execution_count": 83,
     "metadata": {},
     "output_type": "execute_result"
    }
   ],
   "source": [
    "ls_prob = LandslideProbability(grid)  # instantiate the component and launch it\n",
    "np.allclose(grid.at_node['landslide__probability_of_failure'], 0.)"
   ]
  },
  {
   "cell_type": "code",
   "execution_count": 84,
   "metadata": {},
   "outputs": [
    {
     "data": {
      "text/plain": [
       "array([ 0.,  0.,  0.,  0.,  0.,  0.,  0.,  0.,  0.,  0.,  0.,  0.,  0.,\n",
       "        0.,  0.,  0.,  0.,  0.,  0.,  0.,  0.,  0.,  0.,  0.,  0.,  0.,\n",
       "        0.,  0.,  0.,  0.,  0.,  0.,  0.,  0.,  0.,  0.,  0.,  0.,  0.,\n",
       "        0.,  0.,  0.,  0.,  0.,  0.,  0.,  0.,  0.,  0.,  0.,  0.,  0.,\n",
       "        0.,  0.,  0.,  0.,  0.,  0.,  0.,  0.,  0.,  0.,  0.,  0.,  0.,\n",
       "        0.,  0.,  0.,  0.,  0.,  0.,  0.,  0.,  0.,  0.,  0.,  0.,  0.,\n",
       "        0.,  0.,  0.,  0.,  0.,  0.,  0.,  0.,  0.,  0.,  0.,  0.,  0.,\n",
       "        0.,  0.,  0.,  0.,  0.,  0.,  0.,  0.,  0.])"
      ]
     },
     "execution_count": 84,
     "metadata": {},
     "output_type": "execute_result"
    }
   ],
   "source": [
    "grid.at_node['landslide__probability_of_failure']"
   ]
  },
  {
   "cell_type": "code",
   "execution_count": null,
   "metadata": {},
   "outputs": [],
   "source": []
  }
 ],
 "metadata": {
  "kernelspec": {
   "display_name": "Ivy",
   "language": "python",
   "name": "ivy"
  },
  "language_info": {
   "codemirror_mode": {
    "name": "ipython",
    "version": 3
   },
   "file_extension": ".py",
   "mimetype": "text/x-python",
   "name": "python",
   "nbconvert_exporter": "python",
   "pygments_lexer": "ipython3",
   "version": "3.9.12"
  }
 },
 "nbformat": 4,
 "nbformat_minor": 4
}

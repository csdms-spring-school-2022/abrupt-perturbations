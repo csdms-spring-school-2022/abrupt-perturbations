{
 "cells": [
  {
   "cell_type": "markdown",
   "metadata": {},
   "source": [
    "<a href=\"https://csdms.colorado.edu\"><img style=\"float: center; width: 75%\" src=\"(https://lab.openearthscape.org/hub/user-redirect/lab/tree/abrupt-perturbations/abrupt_fire_landslide/media/logo.png)\"></a>"
   ]
  },
  {
   "cell_type": "markdown",
   "metadata": {},
   "source": [
    "# Landlab - using the LandslideProbability component to compute a landslide probability for each cell of a landscape.\n",
    "## (a) Landscape initiation."
   ]
  },
  {
   "cell_type": "markdown",
   "metadata": {},
   "source": [
    "First we create a artificial grid (this will be replaced by real SRTM grid from Oregon)."
   ]
  },
  {
   "cell_type": "code",
   "execution_count": 7,
   "metadata": {},
   "outputs": [],
   "source": [
    "import sys, time, os\n",
    "from pathlib import Path\n",
    "import copy\n",
    "import numpy as np\n",
    "import matplotlib as mpl\n",
    "import matplotlib.pyplot as plt\n",
    "\n",
    "from bmi_topography import Topography\n",
    "from landlab import RasterModelGrid, imshowhs_grid, imshow_grid\n",
    "from landlab.components import FlowAccumulator, PriorityFloodFlowRouter, ChannelProfiler, BedrockLandslider, SpaceLargeScaleEroder\n",
    "from landlab.components.landslides import LandslideProbability\n",
    "from landlab.io import read_esri_ascii, write_esri_ascii\n",
    "from landlab.io.netcdf import read_netcdf\n",
    "from landlab.utils import get_watershed_mask"
   ]
  },
  {
   "cell_type": "code",
   "execution_count": 4,
   "metadata": {},
   "outputs": [],
   "source": [
    "# import small DEM\n",
    "topo = Topography(\n",
    "    dem_type=\"SRTMGL1\",\n",
    "    south=43.971911,\n",
    "    north=43.982382,\n",
    "    west=-123.826646,\n",
    "    east=-123.813606,\n",
    "    output_format=\"AAIGrid\",\n",
    "    cache_dir=\"DEMData//\"\n",
    "    )\n",
    "fname = topo.fetch()\n",
    "dem = topo.load()\n",
    "grid_geog, elev = read_esri_ascii(fname, name='topographic__elevation')    "
   ]
  },
  {
   "cell_type": "code",
   "execution_count": 5,
   "metadata": {},
   "outputs": [],
   "source": [
    "grid = RasterModelGrid ((grid_geog.number_of_node_rows, grid_geog.number_of_node_columns), 30) # 30 meters\n",
    "grid.add_field('topographic__elevation', elev, at = 'node')\n",
    "\n",
    "num_rows, num_columns = grid.shape \n",
    "node_spacing = grid.dx"
   ]
  },
  {
   "cell_type": "raw",
   "metadata": {},
   "source": [
    "from landlab import RasterModelGrid\n",
    "rowNb = 10; colNb = 10; cellSpacing = (30, 30) # in meters\n",
    "grid = RasterModelGrid((rowNb, colNb), xy_spacing=cellSpacing)\n"
   ]
  },
  {
   "cell_type": "markdown",
   "metadata": {},
   "source": [
    "We add an elevation field populated with 0-m elevation."
   ]
  },
  {
   "cell_type": "raw",
   "metadata": {},
   "source": [
    "# create elevation field filled with zeros # REMOVE the clobber=True for the final code\n",
    "# note that topographic elevation should be in a field called \"topographic__elevation\" to be later used by other components\n",
    "z = grid.add_zeros('topographic__elevation', at = 'node', clobber=True)\n",
    "grid.field_values('topographic__elevation')\n",
    "z[grid.y_of_node>150] += 10"
   ]
  },
  {
   "cell_type": "markdown",
   "metadata": {},
   "source": [
    "We display the landscape."
   ]
  },
  {
   "cell_type": "code",
   "execution_count": 6,
   "metadata": {},
   "outputs": [
    {
     "data": {
      "image/png": "[encoded data removed]",
      "text/plain": [
       "<Figure size 432x288 with 2 Axes>"
      ]
     },
     "metadata": {
      "needs_background": "light"
     },
     "output_type": "display_data"
    }
   ],
   "source": [
    "# now display the landscape\n",
    "from landlab import imshow_grid\n",
    "imshow_grid(grid, 'topographic__elevation')"
   ]
  },
  {
   "cell_type": "markdown",
   "metadata": {},
   "source": [
    "## (b) Get information on the LandslideProbability component.\n",
    "Then before we instantiate the LandslideProbability component, we check the possible input variables."
   ]
  },
  {
   "cell_type": "code",
   "execution_count": 8,
   "metadata": {},
   "outputs": [
    {
     "data": {
      "text/plain": [
       "['soil__density',\n",
       " 'soil__internal_friction_angle',\n",
       " 'soil__maximum_total_cohesion',\n",
       " 'soil__minimum_total_cohesion',\n",
       " 'soil__mode_total_cohesion',\n",
       " 'soil__saturated_hydraulic_conductivity',\n",
       " 'soil__thickness',\n",
       " 'soil__transmissivity',\n",
       " 'topographic__slope',\n",
       " 'topographic__specific_contributing_area']"
      ]
     },
     "execution_count": 8,
     "metadata": {},
     "output_type": "execute_result"
    }
   ],
   "source": [
    "sorted(LandslideProbability.input_var_names)"
   ]
  },
  {
   "cell_type": "markdown",
   "metadata": {},
   "source": [
    "We can check the units of these variables."
   ]
  },
  {
   "cell_type": "code",
   "execution_count": 9,
   "metadata": {},
   "outputs": [
    {
     "data": {
      "text/plain": [
       "'m'"
      ]
     },
     "execution_count": 9,
     "metadata": {},
     "output_type": "execute_result"
    }
   ],
   "source": [
    "LandslideProbability.var_units('topographic__specific_contributing_area')"
   ]
  },
  {
   "cell_type": "markdown",
   "metadata": {},
   "source": [
    "We can also get more details about how the input variable will be used in the component."
   ]
  },
  {
   "cell_type": "code",
   "execution_count": 10,
   "metadata": {},
   "outputs": [
    {
     "name": "stdout",
     "output_type": "stream",
     "text": [
      "name: soil__transmissivity\n",
      "description:\n",
      "  mode rate of water transmitted through a unit width of saturated\n",
      "  soil - either provided or calculated with Ksat and soil depth\n",
      "units: m2/day\n",
      "unit agnostic: False\n",
      "at: node\n",
      "intent: in\n"
     ]
    }
   ],
   "source": [
    "LandslideProbability.var_help('soil__transmissivity')"
   ]
  },
  {
   "cell_type": "markdown",
   "metadata": {},
   "source": [
    "## (c) Fill the landscape grid with the soil variables the LandslideProbability component needs to work.\n",
    "_Details on where to find readily available data and how to process these data into parameter rasters are provided in Strauch et al., (2018). For example, root cohesion can be generated from reclassifying land use/land cover (LULC) rasters from USGS National Land Cover Data (USGS 2014; Jin 2013) \n",
    "based on reference to a lookup table that specifies the root cohesion for different LULC types, Table 1 in Strauch et al., (2018). The reclassified raster can then be converted to an ASCII file for import into Landlab, defined with number of rows and columns and cell size._\n",
    "\n",
    "Here we'll make things the simplest as possible. Soil is dominantly sandy in the selected area."
   ]
  },
  {
   "cell_type": "markdown",
   "metadata": {},
   "source": [
    "We suppose a homogeneous soil density. Density should evolve with precipitation and drought (and fires?)."
   ]
  },
  {
   "cell_type": "code",
   "execution_count": 11,
   "metadata": {},
   "outputs": [
    {
     "data": {
      "text/plain": [
       "array([ 1800.,  1800.,  1800., ...,  1800.,  1800.,  1800.])"
      ]
     },
     "execution_count": 11,
     "metadata": {},
     "output_type": "execute_result"
    }
   ],
   "source": [
    "soilDensityArr = 1800 * np.ones(grid.number_of_nodes) # kg/m3\n",
    "grid.add_field('soil__density', soilDensityArr, at='node', clobber=True) \n",
    "# clobber allows to delete existing field before re-creation\n",
    "grid.field_values('soil__density')"
   ]
  },
  {
   "cell_type": "markdown",
   "metadata": {},
   "source": [
    "We also suppose a homogeneous soil internal friction angle. This angle should vary with clay/sand soil content and density. "
   ]
  },
  {
   "cell_type": "code",
   "execution_count": 12,
   "metadata": {},
   "outputs": [
    {
     "data": {
      "text/plain": [
       "array([ 35.,  35.,  35., ...,  35.,  35.,  35.])"
      ]
     },
     "execution_count": 12,
     "metadata": {},
     "output_type": "execute_result"
    }
   ],
   "source": [
    "soilType = 'sand' # other possibility: clay\n",
    "soilInternalFrictionAngle = 35 # in degrees\n",
    "if soilType == 'clay':\n",
    "    soilInternalFrictionAngle = 10\n",
    "soilInternalFrictionAngleArr = soilInternalFrictionAngle * np.ones(grid.number_of_nodes)\n",
    "grid.add_field('soil__internal_friction_angle' , soilInternalFrictionAngleArr, at='node', clobber=True)\n",
    "grid.field_values('soil__internal_friction_angle')"
   ]
  },
  {
   "cell_type": "markdown",
   "metadata": {},
   "source": [
    "We set the combined **root and soil cohesion**. Some values of soil cohesion can be found here: http://www.geotechdata.info/parameter/cohesion.\n",
    "We'll make the simplest and take four values, depending of soil type (clayey / sandy, and water saturated depending on dry/wet).\n",
    "For simplicity, we define the mode, and then add scatter = 0 to get minimum/maximum values."
   ]
  },
  {
   "cell_type": "code",
   "execution_count": 13,
   "metadata": {},
   "outputs": [
    {
     "data": {
      "text/plain": [
       "array([ 10000.,  10000.,  10000., ...,  10000.,  10000.,  10000.])"
      ]
     },
     "execution_count": 13,
     "metadata": {},
     "output_type": "execute_result"
    }
   ],
   "source": [
    "# Constants of soil cohesion, depending dry or wet\n",
    "drySoilCohesion = [70000, 20000] # in Pa. 1: more clayey, 2: more sandy \n",
    "wetSoilCohesion = [20000, 10000] # in Pa. 1: more clayey, 2: more sandy\n",
    "\n",
    "# Supposing that soil is wet (occurring during rainfall) and sandy\n",
    "soilCohesion = wetSoilCohesion[1]\n",
    "soilCohesionArr = soilCohesion * np.ones(grid.number_of_nodes)\n",
    "grid.add_field('soil__mode_total_cohesion', soilCohesionArr, at='node', clobber=True) # in Pa\n",
    "\n",
    "# Maximum and minimum values are copied from mode, for simplicity\n",
    "grid.add_field('soil__minimum_total_cohesion', grid.field_values('soil__mode_total_cohesion'), at='node', clobber=True) # in Pa\n",
    "grid.add_field('soil__maximum_total_cohesion', grid.field_values('soil__mode_total_cohesion'), at='node', clobber=True) # in Pa"
   ]
  },
  {
   "cell_type": "markdown",
   "metadata": {},
   "source": [
    "We define soil thickness. By simplicity same value everywhere, but there should be a little variation with slope (with specifically little soil for slope > 30°)."
   ]
  },
  {
   "cell_type": "code",
   "execution_count": 14,
   "metadata": {},
   "outputs": [
    {
     "data": {
      "text/plain": [
       "array([ 0.5,  0.5,  0.5, ...,  0.5,  0.5,  0.5])"
      ]
     },
     "execution_count": 14,
     "metadata": {},
     "output_type": "execute_result"
    }
   ],
   "source": [
    "soilThicknessArr = 0.5 * np.ones(grid.number_of_nodes) # in m\n",
    "grid.add_field( 'soil__thickness', soilThicknessArr, at='node', clobber=True) # in m"
   ]
  },
  {
   "cell_type": "markdown",
   "metadata": {},
   "source": [
    "We define soil hydraulic conductivity. Varies depending clayey/sandy soil. If this is defined, no use to define transmissivity: ***UNTRUE: the component is raising an error***.\n",
    "\n",
    "**TODO: Check whether proposed values are realistic. AND recompute soil transmissivity values.**"
   ]
  },
  {
   "cell_type": "code",
   "execution_count": 15,
   "metadata": {},
   "outputs": [
    {
     "data": {
      "text/plain": [
       "array([ 0.0005,  0.0005,  0.0005, ...,  0.0005,  0.0005,  0.0005])"
      ]
     },
     "execution_count": 15,
     "metadata": {},
     "output_type": "execute_result"
    }
   ],
   "source": [
    "soilHydraulicConductivity = [1e-5, 1e-3] # in m/day. 1: more clayey, 2: more sandy\n",
    "soilHydraulicConductivityArr = soilHydraulicConductivity[1] * np.ones(grid.number_of_nodes)\n",
    "grid.add_field( 'soil__saturated_hydraulic_conductivity', soilHydraulicConductivityArr, at='node', clobber=True) # in m/day\n",
    "grid.add_field( 'soil__transmissivity', grid.field_values('soil__saturated_hydraulic_conductivity') *\n",
    "              grid.field_values('soil__thickness') , at='node', clobber=True) # in m2/day"
   ]
  },
  {
   "cell_type": "markdown",
   "metadata": {},
   "source": [
    "## d) Fill the landscape grid with the topographic slope and contributing drainage areas, which are calculated from the DEM supplied with the grid, and which the LandslideProbability component needs to work.\n",
    "We now compute the slope from the grid DEM supplied to the LandslideProbability.\n",
    "Doc: https://landlab.readthedocs.io/en/master/reference/grid/gradients.html."
   ]
  },
  {
   "cell_type": "code",
   "execution_count": 16,
   "metadata": {},
   "outputs": [
    {
     "data": {
      "text/plain": [
       "array([ 0.24596264,  0.2281967 ,  0.16718278, ...,  0.4207917 ,\n",
       "        0.31175848,  0.25641655])"
      ]
     },
     "execution_count": 16,
     "metadata": {},
     "output_type": "execute_result"
    }
   ],
   "source": [
    "topographic_slope = grid.calc_slope_at_node(elevs='topographic__elevation')\n",
    "# I expect that calc_slope_at_node computes the tangent, i.e. the ratio of the vertical to the horizontal side, \n",
    "#also called the slope of the line\n",
    "slopes = grid.add_field('topographic__slope', topographic_slope, at='node', clobber=True) # without units, \n",
    "# should be the tangent of slope angle\n",
    "slopes"
   ]
  },
  {
   "cell_type": "markdown",
   "metadata": {},
   "source": [
    "We now compute the specific contributing area from the grid DEM supplied.\n",
    "This should be  calculated as upslope drainage area/unit contour length (e.g., grid cell width) using the multiple flow direction D-infinity approach of TauDEM. \n",
    "(http://hydrology.usu.edu/taudem/taudem5/index.html).\n"
   ]
  },
  {
   "cell_type": "markdown",
   "metadata": {},
   "source": [
    "We first close boundaries except at the north (in the Oregon DEM supplied)."
   ]
  },
  {
   "cell_type": "code",
   "execution_count": 18,
   "metadata": {},
   "outputs": [],
   "source": [
    "grid.set_closed_boundaries_at_grid_edges(True, False, True, True) # right is closed"
   ]
  },
  {
   "cell_type": "markdown",
   "metadata": {},
   "source": [
    "We then instantiate and compute the flow accumulator, using the steepest descent.\n",
    "\n",
    "Doc: https://landlab.readthedocs.io/en/master/reference/components/flow_accum.html?highlight=flow_accum\n",
    "https://landlab.readthedocs.io/en/master/_modules/landlab/components/flow_accum/flow_accumulator.html"
   ]
  },
  {
   "cell_type": "code",
   "execution_count": 19,
   "metadata": {},
   "outputs": [],
   "source": [
    "from landlab.components import FlowAccumulator\n",
    "# Instantiation\n",
    "fa = FlowAccumulator(\n",
    "     grid, 'topographic__elevation', flow_director='FlowDirectorSteepest'\n",
    ")"
   ]
  },
  {
   "cell_type": "code",
   "execution_count": 20,
   "metadata": {},
   "outputs": [
    {
     "data": {
      "text/plain": [
       "array([ 247.,  248.,  247., ...,  294.,  304.,  311.])"
      ]
     },
     "execution_count": 20,
     "metadata": {},
     "output_type": "execute_result"
    }
   ],
   "source": [
    "fa.surface_values"
   ]
  },
  {
   "cell_type": "markdown",
   "metadata": {},
   "source": [
    "We then run the flow accumulator once."
   ]
  },
  {
   "cell_type": "code",
   "execution_count": 21,
   "metadata": {},
   "outputs": [],
   "source": [
    "fa.run_one_step() # run of the flow accumulator"
   ]
  },
  {
   "cell_type": "code",
   "execution_count": 22,
   "metadata": {},
   "outputs": [
    {
     "name": "stdout",
     "output_type": "stream",
     "text": [
      "[    0.     0.     0. ...,  7200.  8100.     0.]\n"
     ]
    }
   ],
   "source": [
    "# Affecting the specific contributing area (drainage basin)\n",
    "contributingAreas = grid.add_field('topographic__specific_contributing_area', grid.at_node['drainage_area'], at='node', clobber=True) # in m\n",
    "print(contributingAreas)"
   ]
  },
  {
   "cell_type": "markdown",
   "metadata": {},
   "source": [
    "## e) Launches the LandslideProbability component needs to work."
   ]
  },
  {
   "cell_type": "code",
   "execution_count": 23,
   "metadata": {},
   "outputs": [
    {
     "data": {
      "text/plain": [
       "True"
      ]
     },
     "execution_count": 23,
     "metadata": {},
     "output_type": "execute_result"
    }
   ],
   "source": [
    "ls_prob = LandslideProbability(grid)  # instantiate the component and launch it\n",
    "np.allclose(grid.at_node['landslide__probability_of_failure'], 0.)"
   ]
  },
  {
   "cell_type": "code",
   "execution_count": 24,
   "metadata": {},
   "outputs": [
    {
     "data": {
      "text/plain": [
       "array([ 0.,  0.,  0., ...,  0.,  0.,  0.])"
      ]
     },
     "execution_count": 24,
     "metadata": {},
     "output_type": "execute_result"
    }
   ],
   "source": [
    "grid.at_node['landslide__probability_of_failure']"
   ]
  },
  {
   "cell_type": "code",
   "execution_count": null,
   "metadata": {},
   "outputs": [],
   "source": [
    "scatter_dat = np.random.randint(1, 10, grid.number_of_nodes)\n",
    "grid.at_node['topographic__specific_contributing_area'] = np.sort(\n",
    "     np.random.randint(30, 900, grid.number_of_nodes).astype(float))\n",
    "grid.at_node['soil__transmissivity'] = np.sort(\n",
    "     np.random.randint(5, 20, grid.number_of_nodes).astype(float), -1)\n",
    "grid.at_node['soil__saturated_hydraulic_conductivity'] = np.sort(\n",
    "     np.random.randint(2, 10, grid.number_of_nodes).astype(float), -1)\n",
    "grid.at_node['soil__mode_total_cohesion'] = np.sort(\n",
    "     np.random.randint(30, 900, grid.number_of_nodes).astype(float))\n",
    "grid.at_node['soil__minimum_total_cohesion'] = (\n",
    "     grid.at_node['soil__mode_total_cohesion'] - scatter_dat)\n",
    "grid.at_node['soil__maximum_total_cohesion'] = (\n",
    "     grid.at_node['soil__mode_total_cohesion'] + scatter_dat)\n",
    "grid.at_node['soil__internal_friction_angle'] = np.sort(\n",
    "     np.random.randint(26, 40, grid.number_of_nodes).astype(float))\n",
    "grid.at_node['soil__thickness'] = np.sort(\n",
    "     np.random.randint(1, 10, grid.number_of_nodes).astype(float))\n",
    "grid.at_node['soil__density'] = (2000. * np.ones(grid.number_of_nodes))"
   ]
  },
  {
   "cell_type": "code",
   "execution_count": 25,
   "metadata": {},
   "outputs": [
    {
     "data": {
      "text/plain": [
       "True"
      ]
     },
     "execution_count": 25,
     "metadata": {},
     "output_type": "execute_result"
    }
   ],
   "source": [
    "ls_prob = LandslideProbability(grid)\n",
    "np.allclose(grid.at_node['landslide__probability_of_failure'], 0.)"
   ]
  },
  {
   "cell_type": "code",
   "execution_count": 26,
   "metadata": {},
   "outputs": [
    {
     "ename": "ValueError",
     "evalue": "left == right",
     "output_type": "error",
     "traceback": [
      "\u001b[0;31m---------------------------------------------------------------------------\u001b[0m",
      "\u001b[0;31mValueError\u001b[0m                                Traceback (most recent call last)",
      "Input \u001b[0;32mIn [26]\u001b[0m, in \u001b[0;36m<cell line: 1>\u001b[0;34m()\u001b[0m\n\u001b[0;32m----> 1\u001b[0m \u001b[43mls_prob\u001b[49m\u001b[38;5;241;43m.\u001b[39;49m\u001b[43mcalculate_landslide_probability\u001b[49m\u001b[43m(\u001b[49m\u001b[43m)\u001b[49m\n",
      "File \u001b[0;32m/opt/tljh/user/envs/ivy/lib/python3.9/site-packages/landlab/components/landslides/landslide_probability.py:593\u001b[0m, in \u001b[0;36mLandslideProbability.calculate_landslide_probability\u001b[0;34m(self)\u001b[0m\n\u001b[1;32m    590\u001b[0m \u001b[38;5;66;03m# Run factor of safety Monte Carlo for all core nodes in domain\u001b[39;00m\n\u001b[1;32m    591\u001b[0m \u001b[38;5;66;03m# i refers to each core node id\u001b[39;00m\n\u001b[1;32m    592\u001b[0m \u001b[38;5;28;01mfor\u001b[39;00m i \u001b[38;5;129;01min\u001b[39;00m \u001b[38;5;28mself\u001b[39m\u001b[38;5;241m.\u001b[39m_grid\u001b[38;5;241m.\u001b[39mcore_nodes:\n\u001b[0;32m--> 593\u001b[0m     \u001b[38;5;28;43mself\u001b[39;49m\u001b[38;5;241;43m.\u001b[39;49m\u001b[43mcalculate_factor_of_safety\u001b[49m\u001b[43m(\u001b[49m\u001b[43mi\u001b[49m\u001b[43m)\u001b[49m\n\u001b[1;32m    594\u001b[0m     \u001b[38;5;66;03m# Populate storage arrays with calculated values\u001b[39;00m\n\u001b[1;32m    595\u001b[0m     \u001b[38;5;28mself\u001b[39m\u001b[38;5;241m.\u001b[39m_mean_Relative_Wetness[i] \u001b[38;5;241m=\u001b[39m \u001b[38;5;28mself\u001b[39m\u001b[38;5;241m.\u001b[39m_soil__mean_relative_wetness\n",
      "File \u001b[0;32m/opt/tljh/user/envs/ivy/lib/python3.9/site-packages/landlab/components/landslides/landslide_probability.py:518\u001b[0m, in \u001b[0;36mLandslideProbability.calculate_factor_of_safety\u001b[0;34m(self, i)\u001b[0m\n\u001b[1;32m    512\u001b[0m     \u001b[38;5;28mself\u001b[39m\u001b[38;5;241m.\u001b[39m_Re \u001b[38;5;241m/\u001b[39m\u001b[38;5;241m=\u001b[39m \u001b[38;5;241m1000.0\u001b[39m  \u001b[38;5;66;03m# Convert mm to m\u001b[39;00m\n\u001b[1;32m    514\u001b[0m \u001b[38;5;66;03m# Cohesion\u001b[39;00m\n\u001b[1;32m    515\u001b[0m \u001b[38;5;66;03m# if don't provide fields of min and max C, uncomment 2 lines below\u001b[39;00m\n\u001b[1;32m    516\u001b[0m \u001b[38;5;66;03m#    Cmin = self._Cmode-0.3*self._Cmode\u001b[39;00m\n\u001b[1;32m    517\u001b[0m \u001b[38;5;66;03m#    Cmax = self._Cmode+0.3*self._Cmode\u001b[39;00m\n\u001b[0;32m--> 518\u001b[0m \u001b[38;5;28mself\u001b[39m\u001b[38;5;241m.\u001b[39m_C \u001b[38;5;241m=\u001b[39m \u001b[43mnp\u001b[49m\u001b[38;5;241;43m.\u001b[39;49m\u001b[43mrandom\u001b[49m\u001b[38;5;241;43m.\u001b[39;49m\u001b[43mtriangular\u001b[49m\u001b[43m(\u001b[49m\n\u001b[1;32m    519\u001b[0m \u001b[43m    \u001b[49m\u001b[38;5;28;43mself\u001b[39;49m\u001b[38;5;241;43m.\u001b[39;49m\u001b[43m_Cmin\u001b[49m\u001b[43m,\u001b[49m\u001b[43m \u001b[49m\u001b[38;5;28;43mself\u001b[39;49m\u001b[38;5;241;43m.\u001b[39;49m\u001b[43m_Cmode\u001b[49m\u001b[43m,\u001b[49m\u001b[43m \u001b[49m\u001b[38;5;28;43mself\u001b[39;49m\u001b[38;5;241;43m.\u001b[39;49m\u001b[43m_Cmax\u001b[49m\u001b[43m,\u001b[49m\u001b[43m \u001b[49m\u001b[43msize\u001b[49m\u001b[38;5;241;43m=\u001b[39;49m\u001b[38;5;28;43mself\u001b[39;49m\u001b[38;5;241;43m.\u001b[39;49m\u001b[43m_n\u001b[49m\n\u001b[1;32m    520\u001b[0m \u001b[43m\u001b[49m\u001b[43m)\u001b[49m\n\u001b[1;32m    522\u001b[0m \u001b[38;5;66;03m# phi - internal angle of friction provided in degrees\u001b[39;00m\n\u001b[1;32m    523\u001b[0m phi_min \u001b[38;5;241m=\u001b[39m \u001b[38;5;28mself\u001b[39m\u001b[38;5;241m.\u001b[39m_phi_mode \u001b[38;5;241m-\u001b[39m \u001b[38;5;241m0.18\u001b[39m \u001b[38;5;241m*\u001b[39m \u001b[38;5;28mself\u001b[39m\u001b[38;5;241m.\u001b[39m_phi_mode\n",
      "File \u001b[0;32mmtrand.pyx:3264\u001b[0m, in \u001b[0;36mnumpy.random.mtrand.RandomState.triangular\u001b[0;34m()\u001b[0m\n",
      "\u001b[0;31mValueError\u001b[0m: left == right"
     ]
    }
   ],
   "source": [
    "ls_prob.calculate_landslide_probability()"
   ]
  },
  {
   "cell_type": "code",
   "execution_count": null,
   "metadata": {},
   "outputs": [],
   "source": []
  }
 ],
 "metadata": {
  "kernelspec": {
   "display_name": "Ivy",
   "language": "python",
   "name": "ivy"
  },
  "language_info": {
   "codemirror_mode": {
    "name": "ipython",
    "version": 3
   },
   "file_extension": ".py",
   "mimetype": "text/x-python",
   "name": "python",
   "nbconvert_exporter": "python",
   "pygments_lexer": "ipython3",
   "version": "3.9.12"
  }
 },
 "nbformat": 4,
 "nbformat_minor": 4
}

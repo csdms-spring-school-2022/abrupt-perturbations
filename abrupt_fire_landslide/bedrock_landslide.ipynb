{
 "cells": [
  {
   "cell_type": "markdown",
   "id": "950f3175-eca4-490f-9498-2a0955ef2ecb",
   "metadata": {},
   "source": [
    "# [BedrockLandslider](https://landlab.readthedocs.io/en/latest/reference/components/bedrock_landslider.html)"
   ]
  },
  {
   "cell_type": "code",
   "execution_count": 3,
   "id": "22182313-8ede-480b-ba6a-61b0c121a0fc",
   "metadata": {},
   "outputs": [],
   "source": [
    "import sys, time, os\n",
    "from pathlib import Path\n",
    "import copy\n",
    "import numpy as np\n",
    "import matplotlib as mpl\n",
    "import matplotlib.pyplot as plt\n",
    "\n",
    "from bmi_topography import Topography\n",
    "from landlab import RasterModelGrid, imshowhs_grid, imshow_grid\n",
    "from landlab.components import FlowAccumulator, PriorityFloodFlowRouter, ChannelProfiler, BedrockLandslider, SpaceLargeScaleEroder\n",
    "from landlab.components.landslides import LandslideProbability\n",
    "from landlab.io import read_esri_ascii, write_esri_ascii\n",
    "from landlab.io.netcdf import read_netcdf\n",
    "from landlab.utils import get_watershed_mask"
   ]
  },
  {
   "cell_type": "code",
   "execution_count": 4,
   "id": "f11130b8-f72f-4101-a780-f5f0dce4de35",
   "metadata": {},
   "outputs": [],
   "source": [
    "# import small DEM\n",
    "topo = Topography(\n",
    "    dem_type=\"SRTMGL1\",\n",
    "    south=43.971911,\n",
    "    north=43.982382,\n",
    "    west=-123.826646,\n",
    "    east=-123.813606,\n",
    "    output_format=\"AAIGrid\",\n",
    "    cache_dir=\"DEMData//\"\n",
    "    )\n",
    "fname = topo.fetch()\n",
    "dem = topo.load()\n",
    "grid_geog, elev = read_esri_ascii(fname, name='topographic__elevation')    "
   ]
  },
  {
   "cell_type": "code",
   "execution_count": 5,
   "id": "7f7be22e-dfbd-4852-a035-e9cf0cf200ec",
   "metadata": {},
   "outputs": [],
   "source": [
    "grid = RasterModelGrid ((grid_geog.number_of_node_rows, grid_geog.number_of_node_columns), 30) # 30 meters\n",
    "grid.add_field('topographic__elevation', elev, at = 'node')\n",
    "\n",
    "num_rows, num_columns = grid.shape \n",
    "node_spacing = grid.dx"
   ]
  },
  {
   "cell_type": "code",
   "execution_count": null,
   "id": "c28ccbc2-53ed-49a7-8902-be3190168ab5",
   "metadata": {},
   "outputs": [],
   "source": []
  }
 ],
 "metadata": {
  "kernelspec": {
   "display_name": "Ivy",
   "language": "python",
   "name": "ivy"
  },
  "language_info": {
   "codemirror_mode": {
    "name": "ipython",
    "version": 3
   },
   "file_extension": ".py",
   "mimetype": "text/x-python",
   "name": "python",
   "nbconvert_exporter": "python",
   "pygments_lexer": "ipython3",
   "version": "3.9.12"
  }
 },
 "nbformat": 4,
 "nbformat_minor": 5
}
